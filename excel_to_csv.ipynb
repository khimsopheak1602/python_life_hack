{
 "cells": [
  {
   "cell_type": "code",
   "execution_count": null,
   "id": "1c3308df-c279-4ed4-a6bc-bcbecfccece9",
   "metadata": {},
   "outputs": [],
   "source": [
    "import pandas as pd\n",
    "import os\n",
    "\n",
    "input_folder = \"path/to/excel_files\"\n",
    "output_folder = \"path/to/save_csv\"\n",
    "\n",
    "# Create output folder if it doesn't exist\n",
    "os.makedirs(output_folder, exist_ok=True)\n",
    "\n",
    "for file in os.listdir(input_folder):\n",
    "    if file.endswith((\".xlsx\", \".xls\")):\n",
    "        file_path = os.path.join(input_folder, file)\n",
    "        df = pd.read_excel(file_path)\n",
    "\n",
    "        csv_file = os.path.splitext(file)[0] + \".csv\"\n",
    "        csv_path = os.path.join(output_folder, csv_file)\n",
    "\n",
    "        df.to_csv(csv_path, index=False)\n",
    "        print(f\"Converted: {file} → {csv_file}\")\n"
   ]
  }
 ],
 "metadata": {
  "kernelspec": {
   "display_name": "Python 3 (ipykernel)",
   "language": "python",
   "name": "python3"
  },
  "language_info": {
   "codemirror_mode": {
    "name": "ipython",
    "version": 3
   },
   "file_extension": ".py",
   "mimetype": "text/x-python",
   "name": "python",
   "nbconvert_exporter": "python",
   "pygments_lexer": "ipython3",
   "version": "3.13.5"
  }
 },
 "nbformat": 4,
 "nbformat_minor": 5
}
